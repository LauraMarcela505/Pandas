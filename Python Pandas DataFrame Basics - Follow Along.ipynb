{
 "cells": [
  {
   "cell_type": "markdown",
   "id": "77f4a233",
   "metadata": {},
   "source": [
    "# Pandas DataFrame\n",
    "A two-dimensional labeled array with rows and columns\n",
    "<br><b>Basic Syntax</b>: x = pd.DataFrame(data)"
   ]
  },
  {
   "cell_type": "markdown",
   "id": "2f685add",
   "metadata": {},
   "source": [
    "## <u>Libraries</u>"
   ]
  },
  {
   "cell_type": "code",
   "execution_count": null,
   "id": "55c64f30",
   "metadata": {},
   "outputs": [],
   "source": []
  },
  {
   "cell_type": "markdown",
   "id": "f5baacf6",
   "metadata": {},
   "source": [
    "## <u>Create a Pandas Dataframe"
   ]
  },
  {
   "cell_type": "code",
   "execution_count": null,
   "id": "894c6b8e",
   "metadata": {},
   "outputs": [],
   "source": []
  },
  {
   "cell_type": "code",
   "execution_count": null,
   "id": "0d72c854",
   "metadata": {},
   "outputs": [],
   "source": []
  },
  {
   "cell_type": "code",
   "execution_count": null,
   "id": "d512959d",
   "metadata": {},
   "outputs": [],
   "source": []
  },
  {
   "cell_type": "markdown",
   "id": "cff1ef39",
   "metadata": {},
   "source": [
    "## <u>Changing the Index"
   ]
  },
  {
   "cell_type": "code",
   "execution_count": null,
   "id": "b07142da",
   "metadata": {},
   "outputs": [],
   "source": []
  },
  {
   "cell_type": "code",
   "execution_count": null,
   "id": "ac510687",
   "metadata": {},
   "outputs": [],
   "source": []
  },
  {
   "cell_type": "code",
   "execution_count": null,
   "id": "4c127166",
   "metadata": {},
   "outputs": [],
   "source": []
  },
  {
   "cell_type": "code",
   "execution_count": null,
   "id": "36677b0f",
   "metadata": {},
   "outputs": [],
   "source": []
  },
  {
   "cell_type": "code",
   "execution_count": null,
   "id": "4a306ce5",
   "metadata": {},
   "outputs": [],
   "source": []
  }
 ],
 "metadata": {
  "kernelspec": {
   "display_name": "Python 3 (ipykernel)",
   "language": "python",
   "name": "python3"
  },
  "language_info": {
   "codemirror_mode": {
    "name": "ipython",
    "version": 3
   },
   "file_extension": ".py",
   "mimetype": "text/x-python",
   "name": "python",
   "nbconvert_exporter": "python",
   "pygments_lexer": "ipython3",
   "version": "3.9.7"
  }
 },
 "nbformat": 4,
 "nbformat_minor": 5
}
