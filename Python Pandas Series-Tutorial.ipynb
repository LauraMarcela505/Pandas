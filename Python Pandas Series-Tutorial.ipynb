{
 "cells": [
  {
   "cell_type": "markdown",
   "id": "987caa2f",
   "metadata": {},
   "source": [
    "# Pandas Series\n",
    "A one-dimensional labeled array capable of holding any data type in Python\n",
    "<br><b>Basic Syntax</b>: x = pd.Series(data, index)"
   ]
  },
  {
   "cell_type": "markdown",
   "id": "1f54a014",
   "metadata": {},
   "source": [
    "## <u>Libraries</u>"
   ]
  },
  {
   "cell_type": "code",
   "execution_count": 1,
   "id": "504b1616",
   "metadata": {},
   "outputs": [],
   "source": [
    "import pandas as pd"
   ]
  },
  {
   "cell_type": "markdown",
   "id": "f9379393",
   "metadata": {},
   "source": [
    "## <u>How to Make a Pandas Series"
   ]
  },
  {
   "cell_type": "markdown",
   "id": "708aef97",
   "metadata": {},
   "source": [
    "### List"
   ]
  },
  {
   "cell_type": "code",
   "execution_count": 2,
   "id": "96fcd184",
   "metadata": {},
   "outputs": [],
   "source": [
    "days = ['Monday', 'Tuesday','Wednesday', 'Thursday']"
   ]
  },
  {
   "cell_type": "code",
   "execution_count": 3,
   "id": "cf94c2f6",
   "metadata": {},
   "outputs": [],
   "source": [
    "days_series = pd.Series(data=days)"
   ]
  },
  {
   "cell_type": "code",
   "execution_count": 4,
   "id": "623042ca",
   "metadata": {},
   "outputs": [
    {
     "data": {
      "text/plain": [
       "0       Monday\n",
       "1      Tuesday\n",
       "2    Wednesday\n",
       "3     Thursday\n",
       "dtype: object"
      ]
     },
     "execution_count": 4,
     "metadata": {},
     "output_type": "execute_result"
    }
   ],
   "source": [
    "days_series"
   ]
  },
  {
   "cell_type": "code",
   "execution_count": 7,
   "id": "dc9a015a",
   "metadata": {},
   "outputs": [],
   "source": [
    "index_labels = [4,6,2,8]"
   ]
  },
  {
   "cell_type": "code",
   "execution_count": 8,
   "id": "e9014455",
   "metadata": {},
   "outputs": [],
   "source": [
    "days_series_2 = pd.Series(data=days,\n",
    "                         index=index_labels)"
   ]
  },
  {
   "cell_type": "code",
   "execution_count": 9,
   "id": "31a4af30",
   "metadata": {},
   "outputs": [
    {
     "data": {
      "text/plain": [
       "4       Monday\n",
       "6      Tuesday\n",
       "2    Wednesday\n",
       "8     Thursday\n",
       "dtype: object"
      ]
     },
     "execution_count": 9,
     "metadata": {},
     "output_type": "execute_result"
    }
   ],
   "source": [
    "days_series_2"
   ]
  },
  {
   "cell_type": "code",
   "execution_count": 10,
   "id": "e9d42155",
   "metadata": {},
   "outputs": [],
   "source": [
    "days_series_3 = pd.Series(index_labels,days)"
   ]
  },
  {
   "cell_type": "code",
   "execution_count": 11,
   "id": "ad337ff8",
   "metadata": {
    "scrolled": true
   },
   "outputs": [
    {
     "data": {
      "text/plain": [
       "Monday       4\n",
       "Tuesday      6\n",
       "Wednesday    2\n",
       "Thursday     8\n",
       "dtype: int64"
      ]
     },
     "execution_count": 11,
     "metadata": {},
     "output_type": "execute_result"
    }
   ],
   "source": [
    "days_series_3"
   ]
  },
  {
   "cell_type": "markdown",
   "id": "97f300ff",
   "metadata": {},
   "source": [
    "### Dictonary"
   ]
  },
  {
   "cell_type": "code",
   "execution_count": 12,
   "id": "fd0fe376",
   "metadata": {},
   "outputs": [],
   "source": [
    "groceries = {'bananas':3, 'oranges':2, 'apples': 5}"
   ]
  },
  {
   "cell_type": "code",
   "execution_count": 14,
   "id": "916b319d",
   "metadata": {},
   "outputs": [],
   "source": [
    "groceries_series = pd.Series(groceries)"
   ]
  },
  {
   "cell_type": "code",
   "execution_count": 15,
   "id": "f890f13f",
   "metadata": {},
   "outputs": [
    {
     "data": {
      "text/plain": [
       "bananas    3\n",
       "oranges    2\n",
       "apples     5\n",
       "dtype: int64"
      ]
     },
     "execution_count": 15,
     "metadata": {},
     "output_type": "execute_result"
    }
   ],
   "source": [
    "groceries_series"
   ]
  },
  {
   "cell_type": "markdown",
   "id": "72f25362",
   "metadata": {},
   "source": [
    "## <u>Accessing Values"
   ]
  },
  {
   "cell_type": "code",
   "execution_count": 16,
   "id": "2f3d9d9f",
   "metadata": {},
   "outputs": [
    {
     "data": {
      "text/plain": [
       "bananas    3\n",
       "oranges    2\n",
       "apples     5\n",
       "dtype: int64"
      ]
     },
     "execution_count": 16,
     "metadata": {},
     "output_type": "execute_result"
    }
   ],
   "source": [
    "groceries_series"
   ]
  },
  {
   "cell_type": "code",
   "execution_count": 17,
   "id": "dfb8cd10",
   "metadata": {},
   "outputs": [
    {
     "data": {
      "text/plain": [
       "2"
      ]
     },
     "execution_count": 17,
     "metadata": {},
     "output_type": "execute_result"
    }
   ],
   "source": [
    "groceries_series['oranges']"
   ]
  },
  {
   "cell_type": "code",
   "execution_count": 18,
   "id": "4f2dc021",
   "metadata": {},
   "outputs": [
    {
     "data": {
      "text/plain": [
       "0       Monday\n",
       "1      Tuesday\n",
       "2    Wednesday\n",
       "3     Thursday\n",
       "dtype: object"
      ]
     },
     "execution_count": 18,
     "metadata": {},
     "output_type": "execute_result"
    }
   ],
   "source": [
    "days_series"
   ]
  },
  {
   "cell_type": "code",
   "execution_count": 20,
   "id": "35da7a70",
   "metadata": {},
   "outputs": [
    {
     "data": {
      "text/plain": [
       "'Tuesday'"
      ]
     },
     "execution_count": 20,
     "metadata": {},
     "output_type": "execute_result"
    }
   ],
   "source": [
    "days_series[1]"
   ]
  },
  {
   "cell_type": "markdown",
   "id": "9fe5f783",
   "metadata": {},
   "source": [
    "## <u>Slicing a Series"
   ]
  },
  {
   "cell_type": "code",
   "execution_count": 21,
   "id": "c0bb0462",
   "metadata": {},
   "outputs": [
    {
     "data": {
      "text/plain": [
       "1      Tuesday\n",
       "2    Wednesday\n",
       "3     Thursday\n",
       "dtype: object"
      ]
     },
     "execution_count": 21,
     "metadata": {},
     "output_type": "execute_result"
    }
   ],
   "source": [
    "days_series[1:4]"
   ]
  },
  {
   "cell_type": "markdown",
   "id": "578b3aba",
   "metadata": {},
   "source": [
    "## <u>Adding Series Together"
   ]
  },
  {
   "cell_type": "code",
   "execution_count": 22,
   "id": "4551b66c",
   "metadata": {},
   "outputs": [],
   "source": [
    "groceries_series_2 = pd.Series([2,4,5,3],['bananas', 'apples', 'oranges', 'pineapples'])"
   ]
  },
  {
   "cell_type": "code",
   "execution_count": 23,
   "id": "7bcad16e",
   "metadata": {},
   "outputs": [
    {
     "data": {
      "text/plain": [
       "bananas       2\n",
       "apples        4\n",
       "oranges       5\n",
       "pineapples    3\n",
       "dtype: int64"
      ]
     },
     "execution_count": 23,
     "metadata": {},
     "output_type": "execute_result"
    }
   ],
   "source": [
    "groceries_series_2"
   ]
  },
  {
   "cell_type": "code",
   "execution_count": 24,
   "id": "1d0e40eb",
   "metadata": {},
   "outputs": [
    {
     "data": {
      "text/plain": [
       "bananas    3\n",
       "oranges    2\n",
       "apples     5\n",
       "dtype: int64"
      ]
     },
     "execution_count": 24,
     "metadata": {},
     "output_type": "execute_result"
    }
   ],
   "source": [
    "groceries_series"
   ]
  },
  {
   "cell_type": "code",
   "execution_count": 25,
   "id": "cdb7bfd9",
   "metadata": {},
   "outputs": [],
   "source": [
    "all_groceries = groceries_series + groceries_series_2"
   ]
  },
  {
   "cell_type": "code",
   "execution_count": 26,
   "id": "82f98161",
   "metadata": {},
   "outputs": [
    {
     "data": {
      "text/plain": [
       "apples        9.0\n",
       "bananas       5.0\n",
       "oranges       7.0\n",
       "pineapples    NaN\n",
       "dtype: float64"
      ]
     },
     "execution_count": 26,
     "metadata": {},
     "output_type": "execute_result"
    }
   ],
   "source": [
    "all_groceries"
   ]
  },
  {
   "cell_type": "code",
   "execution_count": 27,
   "id": "0e3bbd97",
   "metadata": {},
   "outputs": [],
   "source": [
    "all_groceries['veggies'] = 15"
   ]
  },
  {
   "cell_type": "code",
   "execution_count": 28,
   "id": "d1707701",
   "metadata": {},
   "outputs": [
    {
     "data": {
      "text/plain": [
       "apples         9.0\n",
       "bananas        5.0\n",
       "oranges        7.0\n",
       "pineapples     NaN\n",
       "veggies       15.0\n",
       "dtype: float64"
      ]
     },
     "execution_count": 28,
     "metadata": {},
     "output_type": "execute_result"
    }
   ],
   "source": [
    "all_groceries"
   ]
  },
  {
   "cell_type": "markdown",
   "id": "0c55a413",
   "metadata": {},
   "source": [
    "## <u>Applying Functions"
   ]
  },
  {
   "cell_type": "code",
   "execution_count": 29,
   "id": "680cbe09",
   "metadata": {},
   "outputs": [
    {
     "data": {
      "text/plain": [
       "bananas    3\n",
       "oranges    2\n",
       "apples     5\n",
       "dtype: int64"
      ]
     },
     "execution_count": 29,
     "metadata": {},
     "output_type": "execute_result"
    }
   ],
   "source": [
    "groceries_series"
   ]
  },
  {
   "cell_type": "code",
   "execution_count": 34,
   "id": "f2338947",
   "metadata": {},
   "outputs": [],
   "source": [
    "gs = groceries_series.add(5)"
   ]
  },
  {
   "cell_type": "code",
   "execution_count": 36,
   "id": "920286f6",
   "metadata": {},
   "outputs": [
    {
     "data": {
      "text/plain": [
       "bananas   -7\n",
       "oranges   -8\n",
       "apples    -5\n",
       "dtype: int64"
      ]
     },
     "execution_count": 36,
     "metadata": {},
     "output_type": "execute_result"
    }
   ],
   "source": [
    "groceries_series.subtract(10)"
   ]
  },
  {
   "cell_type": "code",
   "execution_count": 37,
   "id": "9ca22ffb",
   "metadata": {},
   "outputs": [
    {
     "data": {
      "text/plain": [
       "2"
      ]
     },
     "execution_count": 37,
     "metadata": {},
     "output_type": "execute_result"
    }
   ],
   "source": [
    "groceries_series.min()"
   ]
  },
  {
   "cell_type": "code",
   "execution_count": 38,
   "id": "3ad7725b",
   "metadata": {},
   "outputs": [
    {
     "data": {
      "text/plain": [
       "5"
      ]
     },
     "execution_count": 38,
     "metadata": {},
     "output_type": "execute_result"
    }
   ],
   "source": [
    "groceries_series.max()"
   ]
  },
  {
   "cell_type": "code",
   "execution_count": 39,
   "id": "e556556a",
   "metadata": {},
   "outputs": [
    {
     "data": {
      "text/plain": [
       "10"
      ]
     },
     "execution_count": 39,
     "metadata": {},
     "output_type": "execute_result"
    }
   ],
   "source": [
    "groceries_series.sum()"
   ]
  },
  {
   "cell_type": "code",
   "execution_count": 40,
   "id": "706c02e4",
   "metadata": {},
   "outputs": [
    {
     "data": {
      "text/plain": [
       "array([3, 2, 5], dtype=int64)"
      ]
     },
     "execution_count": 40,
     "metadata": {},
     "output_type": "execute_result"
    }
   ],
   "source": [
    "groceries_series.unique()"
   ]
  },
  {
   "cell_type": "code",
   "execution_count": 41,
   "id": "fe4320e0",
   "metadata": {},
   "outputs": [
    {
     "data": {
      "text/plain": [
       "oranges    2\n",
       "bananas    3\n",
       "apples     5\n",
       "dtype: int64"
      ]
     },
     "execution_count": 41,
     "metadata": {},
     "output_type": "execute_result"
    }
   ],
   "source": [
    "groceries_series.sort_values()"
   ]
  },
  {
   "cell_type": "code",
   "execution_count": 42,
   "id": "7f75dac8",
   "metadata": {},
   "outputs": [
    {
     "data": {
      "text/plain": [
       "apples     5\n",
       "bananas    3\n",
       "oranges    2\n",
       "dtype: int64"
      ]
     },
     "execution_count": 42,
     "metadata": {},
     "output_type": "execute_result"
    }
   ],
   "source": [
    "groceries_series.sort_index()"
   ]
  },
  {
   "cell_type": "markdown",
   "id": "2e774983",
   "metadata": {},
   "source": [
    "## <u>Missing Values"
   ]
  },
  {
   "cell_type": "code",
   "execution_count": 43,
   "id": "cdcd6692",
   "metadata": {},
   "outputs": [
    {
     "data": {
      "text/plain": [
       "apples         9.0\n",
       "bananas        5.0\n",
       "oranges        7.0\n",
       "pineapples     NaN\n",
       "veggies       15.0\n",
       "dtype: float64"
      ]
     },
     "execution_count": 43,
     "metadata": {},
     "output_type": "execute_result"
    }
   ],
   "source": [
    "all_groceries"
   ]
  },
  {
   "cell_type": "code",
   "execution_count": 44,
   "id": "c1090c7a",
   "metadata": {},
   "outputs": [
    {
     "data": {
      "text/plain": [
       "apples        False\n",
       "bananas       False\n",
       "oranges       False\n",
       "pineapples     True\n",
       "veggies       False\n",
       "dtype: bool"
      ]
     },
     "execution_count": 44,
     "metadata": {},
     "output_type": "execute_result"
    }
   ],
   "source": [
    "all_groceries.isnull()"
   ]
  },
  {
   "cell_type": "code",
   "execution_count": 45,
   "id": "08d406d5",
   "metadata": {},
   "outputs": [
    {
     "data": {
      "text/plain": [
       "apples         True\n",
       "bananas        True\n",
       "oranges        True\n",
       "pineapples    False\n",
       "veggies        True\n",
       "dtype: bool"
      ]
     },
     "execution_count": 45,
     "metadata": {},
     "output_type": "execute_result"
    }
   ],
   "source": [
    "all_groceries.notnull()"
   ]
  },
  {
   "cell_type": "code",
   "execution_count": 46,
   "id": "110eec85",
   "metadata": {},
   "outputs": [
    {
     "data": {
      "text/plain": [
       "apples         9.0\n",
       "bananas        5.0\n",
       "oranges        7.0\n",
       "pineapples    19.0\n",
       "veggies       15.0\n",
       "dtype: float64"
      ]
     },
     "execution_count": 46,
     "metadata": {},
     "output_type": "execute_result"
    }
   ],
   "source": [
    "all_groceries.fillna(19)"
   ]
  },
  {
   "cell_type": "code",
   "execution_count": 47,
   "id": "64f164ca",
   "metadata": {},
   "outputs": [
    {
     "data": {
      "text/plain": [
       "apples         3.0\n",
       "bananas        5.0\n",
       "oranges        7.0\n",
       "pineapples     NaN\n",
       "veggies       15.0\n",
       "dtype: float64"
      ]
     },
     "execution_count": 47,
     "metadata": {},
     "output_type": "execute_result"
    }
   ],
   "source": [
    "all_groceries.replace(9,3)"
   ]
  },
  {
   "cell_type": "markdown",
   "id": "8a4eb0f0",
   "metadata": {},
   "source": [
    "## <u>Convert to Other Types"
   ]
  },
  {
   "cell_type": "code",
   "execution_count": 48,
   "id": "4511ff57",
   "metadata": {},
   "outputs": [
    {
     "data": {
      "text/plain": [
       "{'apples': 9.0,\n",
       " 'bananas': 5.0,\n",
       " 'oranges': 7.0,\n",
       " 'pineapples': nan,\n",
       " 'veggies': 15.0}"
      ]
     },
     "execution_count": 48,
     "metadata": {},
     "output_type": "execute_result"
    }
   ],
   "source": [
    "all_groceries.to_dict()"
   ]
  },
  {
   "cell_type": "code",
   "execution_count": 49,
   "id": "80c854ce",
   "metadata": {},
   "outputs": [
    {
     "data": {
      "text/plain": [
       "[9.0, 5.0, 7.0, nan, 15.0]"
      ]
     },
     "execution_count": 49,
     "metadata": {},
     "output_type": "execute_result"
    }
   ],
   "source": [
    "all_groceries.to_list()"
   ]
  },
  {
   "cell_type": "code",
   "execution_count": 50,
   "id": "85cf8893",
   "metadata": {},
   "outputs": [
    {
     "data": {
      "text/html": [
       "<div>\n",
       "<style scoped>\n",
       "    .dataframe tbody tr th:only-of-type {\n",
       "        vertical-align: middle;\n",
       "    }\n",
       "\n",
       "    .dataframe tbody tr th {\n",
       "        vertical-align: top;\n",
       "    }\n",
       "\n",
       "    .dataframe thead th {\n",
       "        text-align: right;\n",
       "    }\n",
       "</style>\n",
       "<table border=\"1\" class=\"dataframe\">\n",
       "  <thead>\n",
       "    <tr style=\"text-align: right;\">\n",
       "      <th></th>\n",
       "      <th>amount</th>\n",
       "    </tr>\n",
       "  </thead>\n",
       "  <tbody>\n",
       "    <tr>\n",
       "      <th>apples</th>\n",
       "      <td>9.0</td>\n",
       "    </tr>\n",
       "    <tr>\n",
       "      <th>bananas</th>\n",
       "      <td>5.0</td>\n",
       "    </tr>\n",
       "    <tr>\n",
       "      <th>oranges</th>\n",
       "      <td>7.0</td>\n",
       "    </tr>\n",
       "    <tr>\n",
       "      <th>pineapples</th>\n",
       "      <td>NaN</td>\n",
       "    </tr>\n",
       "    <tr>\n",
       "      <th>veggies</th>\n",
       "      <td>15.0</td>\n",
       "    </tr>\n",
       "  </tbody>\n",
       "</table>\n",
       "</div>"
      ],
      "text/plain": [
       "            amount\n",
       "apples         9.0\n",
       "bananas        5.0\n",
       "oranges        7.0\n",
       "pineapples     NaN\n",
       "veggies       15.0"
      ]
     },
     "execution_count": 50,
     "metadata": {},
     "output_type": "execute_result"
    }
   ],
   "source": [
    "all_groceries.to_frame(name = 'amount')"
   ]
  },
  {
   "cell_type": "code",
   "execution_count": 52,
   "id": "5d4cf308",
   "metadata": {},
   "outputs": [],
   "source": [
    "all_groceries.to_excel('groceriesList.xlsx')"
   ]
  },
  {
   "cell_type": "code",
   "execution_count": null,
   "id": "fd261b7d",
   "metadata": {},
   "outputs": [],
   "source": []
  }
 ],
 "metadata": {
  "kernelspec": {
   "display_name": "Python 3 (ipykernel)",
   "language": "python",
   "name": "python3"
  },
  "language_info": {
   "codemirror_mode": {
    "name": "ipython",
    "version": 3
   },
   "file_extension": ".py",
   "mimetype": "text/x-python",
   "name": "python",
   "nbconvert_exporter": "python",
   "pygments_lexer": "ipython3",
   "version": "3.9.7"
  }
 },
 "nbformat": 4,
 "nbformat_minor": 5
}
