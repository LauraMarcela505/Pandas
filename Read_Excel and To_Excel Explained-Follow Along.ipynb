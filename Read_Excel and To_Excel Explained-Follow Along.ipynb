{
 "cells": [
  {
   "cell_type": "markdown",
   "id": "77465824",
   "metadata": {},
   "source": [
    "# Pandas: Read_Excel and To_Excel *Explained*\n",
    "- read_excel: function in Pandas that is used for importing data from Excel files into a Pandas DataFrame\n",
    "- to_excel: function in Pandas used to write or export a Pandas DataFrame to an Excel"
   ]
  },
  {
   "cell_type": "markdown",
   "id": "2377de42",
   "metadata": {},
   "source": [
    "## <u>Libraries</u>"
   ]
  },
  {
   "cell_type": "code",
   "execution_count": null,
   "id": "f6845af4",
   "metadata": {},
   "outputs": [],
   "source": []
  },
  {
   "cell_type": "markdown",
   "id": "ee81d457",
   "metadata": {},
   "source": [
    "# Read_Excel"
   ]
  },
  {
   "cell_type": "markdown",
   "id": "ba04f2ef",
   "metadata": {},
   "source": [
    "## <u>Importing Data into a DataFrame"
   ]
  },
  {
   "cell_type": "code",
   "execution_count": null,
   "id": "f2e7bbef",
   "metadata": {},
   "outputs": [],
   "source": []
  },
  {
   "cell_type": "code",
   "execution_count": null,
   "id": "b07b693c",
   "metadata": {
    "scrolled": true
   },
   "outputs": [],
   "source": []
  },
  {
   "cell_type": "markdown",
   "id": "4d87bf60",
   "metadata": {},
   "source": [
    "## <u>Explaining Different Parameters"
   ]
  },
  {
   "cell_type": "code",
   "execution_count": null,
   "id": "40e34876",
   "metadata": {},
   "outputs": [],
   "source": []
  },
  {
   "cell_type": "code",
   "execution_count": null,
   "id": "037015b7",
   "metadata": {},
   "outputs": [],
   "source": []
  },
  {
   "cell_type": "code",
   "execution_count": null,
   "id": "b9ac9369",
   "metadata": {},
   "outputs": [],
   "source": []
  },
  {
   "cell_type": "code",
   "execution_count": null,
   "id": "a54fac9b",
   "metadata": {},
   "outputs": [],
   "source": []
  },
  {
   "cell_type": "markdown",
   "id": "ad40be57",
   "metadata": {},
   "source": [
    "### Parameter: header"
   ]
  },
  {
   "cell_type": "code",
   "execution_count": null,
   "id": "a25041d9",
   "metadata": {},
   "outputs": [],
   "source": []
  },
  {
   "cell_type": "code",
   "execution_count": null,
   "id": "71e82943",
   "metadata": {},
   "outputs": [],
   "source": []
  },
  {
   "cell_type": "markdown",
   "id": "66c6adb0",
   "metadata": {},
   "source": [
    "### Parameter: nrows"
   ]
  },
  {
   "cell_type": "code",
   "execution_count": null,
   "id": "37a67d4f",
   "metadata": {},
   "outputs": [],
   "source": []
  },
  {
   "cell_type": "code",
   "execution_count": null,
   "id": "a9900aee",
   "metadata": {},
   "outputs": [],
   "source": []
  },
  {
   "cell_type": "markdown",
   "id": "e5375889",
   "metadata": {},
   "source": [
    "### Parameter: usecols"
   ]
  },
  {
   "cell_type": "code",
   "execution_count": null,
   "id": "bfe6c8d7",
   "metadata": {},
   "outputs": [],
   "source": []
  },
  {
   "cell_type": "code",
   "execution_count": null,
   "id": "b02f5e34",
   "metadata": {},
   "outputs": [],
   "source": []
  },
  {
   "cell_type": "markdown",
   "id": "abe38057",
   "metadata": {},
   "source": [
    "### Parameter: index_col"
   ]
  },
  {
   "cell_type": "code",
   "execution_count": null,
   "id": "3fd4474a",
   "metadata": {},
   "outputs": [],
   "source": []
  },
  {
   "cell_type": "code",
   "execution_count": null,
   "id": "b2f8073d",
   "metadata": {},
   "outputs": [],
   "source": []
  },
  {
   "cell_type": "markdown",
   "id": "46abe9b7",
   "metadata": {},
   "source": [
    "# To_Excel"
   ]
  },
  {
   "cell_type": "code",
   "execution_count": null,
   "id": "34c93fcb",
   "metadata": {},
   "outputs": [],
   "source": []
  },
  {
   "cell_type": "code",
   "execution_count": null,
   "id": "7706717a",
   "metadata": {},
   "outputs": [],
   "source": []
  }
 ],
 "metadata": {
  "kernelspec": {
   "display_name": "Python 3 (ipykernel)",
   "language": "python",
   "name": "python3"
  },
  "language_info": {
   "codemirror_mode": {
    "name": "ipython",
    "version": 3
   },
   "file_extension": ".py",
   "mimetype": "text/x-python",
   "name": "python",
   "nbconvert_exporter": "python",
   "pygments_lexer": "ipython3",
   "version": "3.9.7"
  }
 },
 "nbformat": 4,
 "nbformat_minor": 5
}
